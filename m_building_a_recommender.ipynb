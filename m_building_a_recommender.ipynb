{
 "cells": [
  {
   "cell_type": "code",
   "execution_count": 1,
   "metadata": {},
   "outputs": [
    {
     "data": {
      "text/plain": [
       "['tags.csv', 'README.txt', 'ratings.csv', 'movies.csv', 'links.csv']"
      ]
     },
     "execution_count": 1,
     "metadata": {},
     "output_type": "execute_result"
    }
   ],
   "source": [
    "# unzip out data\n",
    "import zipfile\n",
    "import os\n",
    "import shutil\n",
    "\n",
    "if os.path.exists(\"ml-latest-small\"):\n",
    "    shutil.rmtree(\"ml-latest-small\")\n",
    "    \n",
    "with zipfile.ZipFile(\"ml-latest-small.zip\", 'r') as zip_ref:\n",
    "    zip_ref.extractall(\".\")\n",
    "    \n",
    "os.listdir(\"ml-latest-small/\")"
   ]
  },
  {
   "cell_type": "markdown",
   "metadata": {},
   "source": [
    "# Let's do simple EDA (not very deep)"
   ]
  },
  {
   "cell_type": "code",
   "execution_count": 32,
   "metadata": {},
   "outputs": [
    {
     "name": "stdout",
     "output_type": "stream",
     "text": [
      "Populating the interactive namespace from numpy and matplotlib\n"
     ]
    },
    {
     "name": "stderr",
     "output_type": "stream",
     "text": [
      "/home/kinetik/anaconda3/lib/python3.7/site-packages/IPython/core/magics/pylab.py:160: UserWarning: pylab import has clobbered these variables: ['test']\n",
      "`%matplotlib` prevents importing * from pylab and numpy\n",
      "  \"\\n`%matplotlib` prevents importing * from pylab and numpy\"\n"
     ]
    }
   ],
   "source": [
    "import pandas as pd\n",
    "import numpy as np\n",
    "from scipy import sparse\n",
    "import re\n",
    "\n",
    "%pylab inline"
   ]
  },
  {
   "cell_type": "code",
   "execution_count": 3,
   "metadata": {},
   "outputs": [],
   "source": [
    "tags = pd.read_csv(\"ml-latest-small/tags.csv\")\n",
    "ratings = pd.read_csv(\"ml-latest-small/ratings.csv\")\n",
    "movies = pd.read_csv(\"ml-latest-small/movies.csv\")\n",
    "links = pd.read_csv(\"ml-latest-small/links.csv\")"
   ]
  },
  {
   "cell_type": "markdown",
   "metadata": {},
   "source": [
    "# Let's see what data do we have for ratings (target values)"
   ]
  },
  {
   "cell_type": "code",
   "execution_count": 4,
   "metadata": {},
   "outputs": [
    {
     "data": {
      "text/html": [
       "<div>\n",
       "<style scoped>\n",
       "    .dataframe tbody tr th:only-of-type {\n",
       "        vertical-align: middle;\n",
       "    }\n",
       "\n",
       "    .dataframe tbody tr th {\n",
       "        vertical-align: top;\n",
       "    }\n",
       "\n",
       "    .dataframe thead th {\n",
       "        text-align: right;\n",
       "    }\n",
       "</style>\n",
       "<table border=\"1\" class=\"dataframe\">\n",
       "  <thead>\n",
       "    <tr style=\"text-align: right;\">\n",
       "      <th></th>\n",
       "      <th>userId</th>\n",
       "      <th>movieId</th>\n",
       "      <th>rating</th>\n",
       "      <th>timestamp</th>\n",
       "    </tr>\n",
       "  </thead>\n",
       "  <tbody>\n",
       "    <tr>\n",
       "      <th>0</th>\n",
       "      <td>1</td>\n",
       "      <td>1</td>\n",
       "      <td>4.0</td>\n",
       "      <td>964982703</td>\n",
       "    </tr>\n",
       "    <tr>\n",
       "      <th>1</th>\n",
       "      <td>1</td>\n",
       "      <td>3</td>\n",
       "      <td>4.0</td>\n",
       "      <td>964981247</td>\n",
       "    </tr>\n",
       "    <tr>\n",
       "      <th>2</th>\n",
       "      <td>1</td>\n",
       "      <td>6</td>\n",
       "      <td>4.0</td>\n",
       "      <td>964982224</td>\n",
       "    </tr>\n",
       "    <tr>\n",
       "      <th>3</th>\n",
       "      <td>1</td>\n",
       "      <td>47</td>\n",
       "      <td>5.0</td>\n",
       "      <td>964983815</td>\n",
       "    </tr>\n",
       "    <tr>\n",
       "      <th>4</th>\n",
       "      <td>1</td>\n",
       "      <td>50</td>\n",
       "      <td>5.0</td>\n",
       "      <td>964982931</td>\n",
       "    </tr>\n",
       "  </tbody>\n",
       "</table>\n",
       "</div>"
      ],
      "text/plain": [
       "   userId  movieId  rating  timestamp\n",
       "0       1        1     4.0  964982703\n",
       "1       1        3     4.0  964981247\n",
       "2       1        6     4.0  964982224\n",
       "3       1       47     5.0  964983815\n",
       "4       1       50     5.0  964982931"
      ]
     },
     "execution_count": 4,
     "metadata": {},
     "output_type": "execute_result"
    }
   ],
   "source": [
    "ratings.head()"
   ]
  },
  {
   "cell_type": "code",
   "execution_count": 5,
   "metadata": {},
   "outputs": [
    {
     "name": "stdout",
     "output_type": "stream",
     "text": [
      "Shape before dedupl (100836, 4)\n",
      "Shape after dedupl (100836, 4)\n"
     ]
    }
   ],
   "source": [
    "print(\"Shape before dedupl {}\".format(ratings.shape))\n",
    "ratings.drop_duplicates(['userId', 'movieId'], inplace=True)\n",
    "print(\"Shape after dedupl {}\".format(ratings.shape))"
   ]
  },
  {
   "cell_type": "code",
   "execution_count": 6,
   "metadata": {},
   "outputs": [
    {
     "name": "stdout",
     "output_type": "stream",
     "text": [
      "Minimum ratings per user mean: 165.30491803278687 max: 2698 min: 20\n"
     ]
    }
   ],
   "source": [
    "aggreg = ratings.groupby(\"userId\")['movieId'].count()\n",
    "print(\"Minimum ratings per user mean: {} max: {} min: {}\".format(aggreg.mean(), aggreg.max(), aggreg.min()))"
   ]
  },
  {
   "cell_type": "code",
   "execution_count": 7,
   "metadata": {},
   "outputs": [
    {
     "data": {
      "text/plain": [
       "<matplotlib.axes._subplots.AxesSubplot at 0x7f77bda95b00>"
      ]
     },
     "execution_count": 7,
     "metadata": {},
     "output_type": "execute_result"
    },
    {
     "data": {
      "image/png": "[encoded data removed]",
      "text/plain": [
       "<Figure size 432x288 with 1 Axes>"
      ]
     },
     "metadata": {
      "needs_background": "light"
     },
     "output_type": "display_data"
    }
   ],
   "source": [
    "ratings['rating'].hist(bins=5)"
   ]
  },
  {
   "cell_type": "markdown",
   "metadata": {},
   "source": [
    "# Some research over movies and tags"
   ]
  },
  {
   "cell_type": "code",
   "execution_count": 8,
   "metadata": {},
   "outputs": [
    {
     "data": {
      "text/html": [
       "<div>\n",
       "<style scoped>\n",
       "    .dataframe tbody tr th:only-of-type {\n",
       "        vertical-align: middle;\n",
       "    }\n",
       "\n",
       "    .dataframe tbody tr th {\n",
       "        vertical-align: top;\n",
       "    }\n",
       "\n",
       "    .dataframe thead th {\n",
       "        text-align: right;\n",
       "    }\n",
       "</style>\n",
       "<table border=\"1\" class=\"dataframe\">\n",
       "  <thead>\n",
       "    <tr style=\"text-align: right;\">\n",
       "      <th></th>\n",
       "      <th>movieId</th>\n",
       "      <th>title</th>\n",
       "      <th>genres</th>\n",
       "    </tr>\n",
       "  </thead>\n",
       "  <tbody>\n",
       "    <tr>\n",
       "      <th>0</th>\n",
       "      <td>1</td>\n",
       "      <td>Toy Story (1995)</td>\n",
       "      <td>Adventure|Animation|Children|Comedy|Fantasy</td>\n",
       "    </tr>\n",
       "    <tr>\n",
       "      <th>1</th>\n",
       "      <td>2</td>\n",
       "      <td>Jumanji (1995)</td>\n",
       "      <td>Adventure|Children|Fantasy</td>\n",
       "    </tr>\n",
       "    <tr>\n",
       "      <th>2</th>\n",
       "      <td>3</td>\n",
       "      <td>Grumpier Old Men (1995)</td>\n",
       "      <td>Comedy|Romance</td>\n",
       "    </tr>\n",
       "    <tr>\n",
       "      <th>3</th>\n",
       "      <td>4</td>\n",
       "      <td>Waiting to Exhale (1995)</td>\n",
       "      <td>Comedy|Drama|Romance</td>\n",
       "    </tr>\n",
       "    <tr>\n",
       "      <th>4</th>\n",
       "      <td>5</td>\n",
       "      <td>Father of the Bride Part II (1995)</td>\n",
       "      <td>Comedy</td>\n",
       "    </tr>\n",
       "  </tbody>\n",
       "</table>\n",
       "</div>"
      ],
      "text/plain": [
       "   movieId                               title  \\\n",
       "0        1                    Toy Story (1995)   \n",
       "1        2                      Jumanji (1995)   \n",
       "2        3             Grumpier Old Men (1995)   \n",
       "3        4            Waiting to Exhale (1995)   \n",
       "4        5  Father of the Bride Part II (1995)   \n",
       "\n",
       "                                        genres  \n",
       "0  Adventure|Animation|Children|Comedy|Fantasy  \n",
       "1                   Adventure|Children|Fantasy  \n",
       "2                               Comedy|Romance  \n",
       "3                         Comedy|Drama|Romance  \n",
       "4                                       Comedy  "
      ]
     },
     "execution_count": 8,
     "metadata": {},
     "output_type": "execute_result"
    }
   ],
   "source": [
    "movies.head()"
   ]
  },
  {
   "cell_type": "code",
   "execution_count": 9,
   "metadata": {},
   "outputs": [
    {
     "data": {
      "text/plain": [
       "(9742, 3)"
      ]
     },
     "execution_count": 9,
     "metadata": {},
     "output_type": "execute_result"
    }
   ],
   "source": [
    "movies.shape"
   ]
  },
  {
   "cell_type": "code",
   "execution_count": 10,
   "metadata": {},
   "outputs": [
    {
     "data": {
      "text/plain": [
       "2002    311\n",
       "2006    295\n",
       "2001    294\n",
       "2007    284\n",
       "2000    283\n",
       "2009    282\n",
       "2004    279\n",
       "2003    279\n",
       "2014    278\n",
       "1996    276\n",
       "2015    274\n",
       "2005    273\n",
       "2008    269\n",
       "1999    263\n",
       "1997    260\n",
       "1995    259\n",
       "1998    258\n",
       "2011    254\n",
       "2010    247\n",
       "2013    239\n",
       "1994    237\n",
       "2012    233\n",
       "2016    218\n",
       "1993    198\n",
       "1992    167\n",
       "1988    165\n",
       "1987    153\n",
       "1990    147\n",
       "2017    147\n",
       "1991    147\n",
       "       ... \n",
       "1941     18\n",
       "1945     17\n",
       "1944     16\n",
       "1937     16\n",
       "1952     16\n",
       "1938     15\n",
       "1931     14\n",
       "1935     13\n",
       "1933     12\n",
       "1934     11\n",
       "1943     10\n",
       "1932      9\n",
       "1927      7\n",
       "1924      5\n",
       "1930      5\n",
       "1926      5\n",
       "1925      4\n",
       "1928      4\n",
       "1916      4\n",
       "1923      4\n",
       "1929      4\n",
       "1920      2\n",
       "1908      1\n",
       "1917      1\n",
       "1915      1\n",
       "1922      1\n",
       "1902      1\n",
       "1919      1\n",
       "1903      1\n",
       "1921      1\n",
       "Name: year, Length: 106, dtype: int64"
      ]
     },
     "execution_count": 10,
     "metadata": {},
     "output_type": "execute_result"
    }
   ],
   "source": [
    "movies['year'] = movies['title'].apply(lambda x: re.findall(\"(?=.*\\((\\d+)\\))\", x)[0] if len(re.findall(\"(?=.*\\((\\d+)\\))\", x)) > 1 else None)\n",
    "movies['year'].value_counts()"
   ]
  },
  {
   "cell_type": "code",
   "execution_count": 11,
   "metadata": {},
   "outputs": [],
   "source": [
    "genres = {}\n",
    "counter = 0\n",
    "for i in range(len(movies)):\n",
    "    spls = movies.loc[i, 'genres'].split(\"|\")\n",
    "    for genre in spls:\n",
    "        if genre in genres:\n",
    "            continue\n",
    "        genres[genre] = counter\n",
    "        counter += 1"
   ]
  },
  {
   "cell_type": "code",
   "execution_count": 12,
   "metadata": {},
   "outputs": [
    {
     "name": "stdout",
     "output_type": "stream",
     "text": [
      "Всего жанров: 20\n"
     ]
    }
   ],
   "source": [
    "print(\"Всего жанров: {}\".format(len(genres)))"
   ]
  },
  {
   "cell_type": "code",
   "execution_count": 13,
   "metadata": {},
   "outputs": [
    {
     "data": {
      "text/html": [
       "<div>\n",
       "<style scoped>\n",
       "    .dataframe tbody tr th:only-of-type {\n",
       "        vertical-align: middle;\n",
       "    }\n",
       "\n",
       "    .dataframe tbody tr th {\n",
       "        vertical-align: top;\n",
       "    }\n",
       "\n",
       "    .dataframe thead th {\n",
       "        text-align: right;\n",
       "    }\n",
       "</style>\n",
       "<table border=\"1\" class=\"dataframe\">\n",
       "  <thead>\n",
       "    <tr style=\"text-align: right;\">\n",
       "      <th></th>\n",
       "      <th>movieId</th>\n",
       "      <th>title</th>\n",
       "      <th>genres</th>\n",
       "      <th>year</th>\n",
       "      <th>century</th>\n",
       "      <th>decade</th>\n",
       "    </tr>\n",
       "  </thead>\n",
       "  <tbody>\n",
       "    <tr>\n",
       "      <th>0</th>\n",
       "      <td>1</td>\n",
       "      <td>Toy Story (1995)</td>\n",
       "      <td>Adventure|Animation|Children|Comedy|Fantasy</td>\n",
       "      <td>1995</td>\n",
       "      <td>1.0</td>\n",
       "      <td>9.0</td>\n",
       "    </tr>\n",
       "    <tr>\n",
       "      <th>1</th>\n",
       "      <td>2</td>\n",
       "      <td>Jumanji (1995)</td>\n",
       "      <td>Adventure|Children|Fantasy</td>\n",
       "      <td>1995</td>\n",
       "      <td>1.0</td>\n",
       "      <td>9.0</td>\n",
       "    </tr>\n",
       "    <tr>\n",
       "      <th>2</th>\n",
       "      <td>3</td>\n",
       "      <td>Grumpier Old Men (1995)</td>\n",
       "      <td>Comedy|Romance</td>\n",
       "      <td>1995</td>\n",
       "      <td>1.0</td>\n",
       "      <td>9.0</td>\n",
       "    </tr>\n",
       "    <tr>\n",
       "      <th>3</th>\n",
       "      <td>4</td>\n",
       "      <td>Waiting to Exhale (1995)</td>\n",
       "      <td>Comedy|Drama|Romance</td>\n",
       "      <td>1995</td>\n",
       "      <td>1.0</td>\n",
       "      <td>9.0</td>\n",
       "    </tr>\n",
       "    <tr>\n",
       "      <th>4</th>\n",
       "      <td>5</td>\n",
       "      <td>Father of the Bride Part II (1995)</td>\n",
       "      <td>Comedy</td>\n",
       "      <td>1995</td>\n",
       "      <td>1.0</td>\n",
       "      <td>9.0</td>\n",
       "    </tr>\n",
       "  </tbody>\n",
       "</table>\n",
       "</div>"
      ],
      "text/plain": [
       "   movieId                               title  \\\n",
       "0        1                    Toy Story (1995)   \n",
       "1        2                      Jumanji (1995)   \n",
       "2        3             Grumpier Old Men (1995)   \n",
       "3        4            Waiting to Exhale (1995)   \n",
       "4        5  Father of the Bride Part II (1995)   \n",
       "\n",
       "                                        genres  year  century  decade  \n",
       "0  Adventure|Animation|Children|Comedy|Fantasy  1995      1.0     9.0  \n",
       "1                   Adventure|Children|Fantasy  1995      1.0     9.0  \n",
       "2                               Comedy|Romance  1995      1.0     9.0  \n",
       "3                         Comedy|Drama|Romance  1995      1.0     9.0  \n",
       "4                                       Comedy  1995      1.0     9.0  "
      ]
     },
     "execution_count": 13,
     "metadata": {},
     "output_type": "execute_result"
    }
   ],
   "source": [
    "movies['century'] = movies['year'].apply(lambda x: int(x) // 1000 if x else None)\n",
    "movies['decade'] = movies['year'].apply(lambda x: int(x) // 100 % 10 if x else None)\n",
    "movies.head()"
   ]
  },
  {
   "cell_type": "code",
   "execution_count": 14,
   "metadata": {},
   "outputs": [
    {
     "data": {
      "text/html": [
       "<div>\n",
       "<style scoped>\n",
       "    .dataframe tbody tr th:only-of-type {\n",
       "        vertical-align: middle;\n",
       "    }\n",
       "\n",
       "    .dataframe tbody tr th {\n",
       "        vertical-align: top;\n",
       "    }\n",
       "\n",
       "    .dataframe thead th {\n",
       "        text-align: right;\n",
       "    }\n",
       "</style>\n",
       "<table border=\"1\" class=\"dataframe\">\n",
       "  <thead>\n",
       "    <tr style=\"text-align: right;\">\n",
       "      <th></th>\n",
       "      <th>userId</th>\n",
       "      <th>movieId</th>\n",
       "      <th>tag</th>\n",
       "      <th>timestamp</th>\n",
       "    </tr>\n",
       "  </thead>\n",
       "  <tbody>\n",
       "    <tr>\n",
       "      <th>0</th>\n",
       "      <td>2</td>\n",
       "      <td>60756</td>\n",
       "      <td>funny</td>\n",
       "      <td>1445714994</td>\n",
       "    </tr>\n",
       "    <tr>\n",
       "      <th>1</th>\n",
       "      <td>2</td>\n",
       "      <td>60756</td>\n",
       "      <td>Highly quotable</td>\n",
       "      <td>1445714996</td>\n",
       "    </tr>\n",
       "    <tr>\n",
       "      <th>2</th>\n",
       "      <td>2</td>\n",
       "      <td>60756</td>\n",
       "      <td>will ferrell</td>\n",
       "      <td>1445714992</td>\n",
       "    </tr>\n",
       "    <tr>\n",
       "      <th>3</th>\n",
       "      <td>2</td>\n",
       "      <td>89774</td>\n",
       "      <td>Boxing story</td>\n",
       "      <td>1445715207</td>\n",
       "    </tr>\n",
       "    <tr>\n",
       "      <th>4</th>\n",
       "      <td>2</td>\n",
       "      <td>89774</td>\n",
       "      <td>MMA</td>\n",
       "      <td>1445715200</td>\n",
       "    </tr>\n",
       "  </tbody>\n",
       "</table>\n",
       "</div>"
      ],
      "text/plain": [
       "   userId  movieId              tag   timestamp\n",
       "0       2    60756            funny  1445714994\n",
       "1       2    60756  Highly quotable  1445714996\n",
       "2       2    60756     will ferrell  1445714992\n",
       "3       2    89774     Boxing story  1445715207\n",
       "4       2    89774              MMA  1445715200"
      ]
     },
     "execution_count": 14,
     "metadata": {},
     "output_type": "execute_result"
    }
   ],
   "source": [
    "tags.head()"
   ]
  },
  {
   "cell_type": "code",
   "execution_count": 15,
   "metadata": {},
   "outputs": [
    {
     "data": {
      "text/plain": [
       "(3683, 4)"
      ]
     },
     "execution_count": 15,
     "metadata": {},
     "output_type": "execute_result"
    }
   ],
   "source": [
    "# Too small, let's skip it\n",
    "tags.shape"
   ]
  },
  {
   "cell_type": "code",
   "execution_count": 16,
   "metadata": {},
   "outputs": [
    {
     "data": {
      "text/html": [
       "<div>\n",
       "<style scoped>\n",
       "    .dataframe tbody tr th:only-of-type {\n",
       "        vertical-align: middle;\n",
       "    }\n",
       "\n",
       "    .dataframe tbody tr th {\n",
       "        vertical-align: top;\n",
       "    }\n",
       "\n",
       "    .dataframe thead th {\n",
       "        text-align: right;\n",
       "    }\n",
       "</style>\n",
       "<table border=\"1\" class=\"dataframe\">\n",
       "  <thead>\n",
       "    <tr style=\"text-align: right;\">\n",
       "      <th></th>\n",
       "      <th>movieId</th>\n",
       "      <th>imdbId</th>\n",
       "      <th>tmdbId</th>\n",
       "    </tr>\n",
       "  </thead>\n",
       "  <tbody>\n",
       "    <tr>\n",
       "      <th>0</th>\n",
       "      <td>1</td>\n",
       "      <td>114709</td>\n",
       "      <td>862.0</td>\n",
       "    </tr>\n",
       "    <tr>\n",
       "      <th>1</th>\n",
       "      <td>2</td>\n",
       "      <td>113497</td>\n",
       "      <td>8844.0</td>\n",
       "    </tr>\n",
       "    <tr>\n",
       "      <th>2</th>\n",
       "      <td>3</td>\n",
       "      <td>113228</td>\n",
       "      <td>15602.0</td>\n",
       "    </tr>\n",
       "    <tr>\n",
       "      <th>3</th>\n",
       "      <td>4</td>\n",
       "      <td>114885</td>\n",
       "      <td>31357.0</td>\n",
       "    </tr>\n",
       "    <tr>\n",
       "      <th>4</th>\n",
       "      <td>5</td>\n",
       "      <td>113041</td>\n",
       "      <td>11862.0</td>\n",
       "    </tr>\n",
       "  </tbody>\n",
       "</table>\n",
       "</div>"
      ],
      "text/plain": [
       "   movieId  imdbId   tmdbId\n",
       "0        1  114709    862.0\n",
       "1        2  113497   8844.0\n",
       "2        3  113228  15602.0\n",
       "3        4  114885  31357.0\n",
       "4        5  113041  11862.0"
      ]
     },
     "execution_count": 16,
     "metadata": {},
     "output_type": "execute_result"
    }
   ],
   "source": [
    "links.head()"
   ]
  },
  {
   "cell_type": "markdown",
   "metadata": {},
   "source": [
    "# So we won't use text features from imdb and from tags data"
   ]
  },
  {
   "cell_type": "code",
   "execution_count": null,
   "metadata": {},
   "outputs": [],
   "source": [
    "#Summary may be gotten using. But we don't have enough time\n",
    "import requests \n",
    "import lxml.html\n",
    "import pickle\n",
    "from tqdm import tqdm_notebook\n",
    "\n",
    "def get_summary(id_val):\n",
    "    hxs = lxml.html.document_fromstring(requests.get(\"http://www.imdb.com/title/\"+id_val).content)\n",
    "    try:\n",
    "        return hxs.xpath('//*[@id=\"titleStoryLine\"]/div[1]/p/span')[0].text.strip()\n",
    "    except IndexError:\n",
    "        return \"\"\n",
    "    \n",
    "summaries = {}\n",
    "for i in tqdm_notebook(range(len(links))):\n",
    "    link = str(links.loc[i, \"imdbId\"])\n",
    "    link = \"tt\" + \"0\" * (7-len(link)) + link\n",
    "    summaries[links.loc[i, \"imdbId\"]] = get_summary(link)\n",
    "    \n",
    "with open(\"desciptions.pkl\", \"wb\") as f:\n",
    "    pickle.dump(summaries, f)"
   ]
  },
  {
   "cell_type": "markdown",
   "metadata": {},
   "source": [
    "# Simple modeling"
   ]
  },
  {
   "cell_type": "markdown",
   "metadata": {},
   "source": [
    "In this research we are going to compare a set of different approaches to our problem. To begin we should set up a baseline (conctant algorithm). This is just a proportion"
   ]
  },
  {
   "cell_type": "code",
   "execution_count": 18,
   "metadata": {},
   "outputs": [],
   "source": [
    "from sklearn.model_selection import train_test_split"
   ]
  },
  {
   "cell_type": "code",
   "execution_count": 19,
   "metadata": {},
   "outputs": [],
   "source": [
    "#Manual test-train split to adjust to have 10 points for each user_id in test\n",
    "train = []\n",
    "test = []\n",
    "grouped_data = ratings.groupby(\"userId\")\n",
    "for group in grouped_data.groups:\n",
    "    wrk = grouped_data.get_group(group)\n",
    "    tmp = wrk.sample(max(10, int(0.4*len(wrk))))\n",
    "    test.append(tmp)\n",
    "    train.append(wrk[~wrk['movieId'].isin(set(tmp[\"movieId\"]))])\n",
    "X_train = pd.concat(train)\n",
    "X_test = pd.concat(test)"
   ]
  },
  {
   "cell_type": "code",
   "execution_count": 20,
   "metadata": {},
   "outputs": [],
   "source": [
    "# split into validation and test parts\n",
    "outer_test = []\n",
    "prepared_test = []\n",
    "grouped_test = X_test.groupby(\"userId\")\n",
    "for group in grouped_test.groups:\n",
    "    wrk = grouped_test.get_group(group)\n",
    "    tmp = wrk.sample(10)    \n",
    "    outer_test.append(tmp)\n",
    "    prepared_test.append(wrk[~wrk['movieId'].isin(set(tmp[\"movieId\"]))])\n",
    "X_test = pd.concat(outer_test)\n",
    "X_valid = pd.concat(prepared_test)"
   ]
  },
  {
   "cell_type": "markdown",
   "metadata": {},
   "source": [
    "# Baseline"
   ]
  },
  {
   "cell_type": "code",
   "execution_count": 30,
   "metadata": {},
   "outputs": [
    {
     "data": {
      "text/plain": [
       "1.0389182679833835"
      ]
     },
     "execution_count": 30,
     "metadata": {},
     "output_type": "execute_result"
    }
   ],
   "source": [
    "X_valid['Baseline_prediction'] = X_train['rating'].mean()\n",
    "np.sqrt(np.mean((X_valid['rating'] - X_valid['Baseline_prediction'])**2))"
   ]
  },
  {
   "cell_type": "code",
   "execution_count": 31,
   "metadata": {},
   "outputs": [],
   "source": [
    "X_test['Baseline_prediction'] = X_train['rating'].mean()"
   ]
  },
  {
   "cell_type": "markdown",
   "metadata": {},
   "source": [
    "# Userbased CF modeling"
   ]
  },
  {
   "cell_type": "markdown",
   "metadata": {},
   "source": [
    "User-based collaborative filtering represents each user as a vector of items he or she liked. We need to fill empty value, there are different strategies, but we are going to use item-mean strategy for not to think about empty values on the prediction phase"
   ]
  },
  {
   "cell_type": "code",
   "execution_count": 21,
   "metadata": {},
   "outputs": [],
   "source": [
    "# CF over users\n",
    "from sklearn.metrics.pairwise import cosine_similarity\n",
    "user2item = pd.pivot_table(X_train, values='rating',index='userId',columns='movieId') / 5\n",
    "user2item.fillna(user2item.mean(axis=0), inplace=True)"
   ]
  },
  {
   "cell_type": "code",
   "execution_count": 22,
   "metadata": {},
   "outputs": [
    {
     "data": {
      "text/html": [
       "<div>\n",
       "<style scoped>\n",
       "    .dataframe tbody tr th:only-of-type {\n",
       "        vertical-align: middle;\n",
       "    }\n",
       "\n",
       "    .dataframe tbody tr th {\n",
       "        vertical-align: top;\n",
       "    }\n",
       "\n",
       "    .dataframe thead th {\n",
       "        text-align: right;\n",
       "    }\n",
       "</style>\n",
       "<table border=\"1\" class=\"dataframe\">\n",
       "  <thead>\n",
       "    <tr style=\"text-align: right;\">\n",
       "      <th>movieId</th>\n",
       "      <th>1</th>\n",
       "      <th>2</th>\n",
       "      <th>3</th>\n",
       "      <th>4</th>\n",
       "      <th>5</th>\n",
       "      <th>6</th>\n",
       "      <th>7</th>\n",
       "      <th>8</th>\n",
       "      <th>9</th>\n",
       "      <th>10</th>\n",
       "      <th>...</th>\n",
       "      <th>189713</th>\n",
       "      <th>190207</th>\n",
       "      <th>190209</th>\n",
       "      <th>190215</th>\n",
       "      <th>190219</th>\n",
       "      <th>191005</th>\n",
       "      <th>193571</th>\n",
       "      <th>193581</th>\n",
       "      <th>193583</th>\n",
       "      <th>193609</th>\n",
       "    </tr>\n",
       "    <tr>\n",
       "      <th>userId</th>\n",
       "      <th></th>\n",
       "      <th></th>\n",
       "      <th></th>\n",
       "      <th></th>\n",
       "      <th></th>\n",
       "      <th></th>\n",
       "      <th></th>\n",
       "      <th></th>\n",
       "      <th></th>\n",
       "      <th></th>\n",
       "      <th></th>\n",
       "      <th></th>\n",
       "      <th></th>\n",
       "      <th></th>\n",
       "      <th></th>\n",
       "      <th></th>\n",
       "      <th></th>\n",
       "      <th></th>\n",
       "      <th></th>\n",
       "      <th></th>\n",
       "      <th></th>\n",
       "    </tr>\n",
       "  </thead>\n",
       "  <tbody>\n",
       "    <tr>\n",
       "      <th>1</th>\n",
       "      <td>0.793548</td>\n",
       "      <td>0.7</td>\n",
       "      <td>0.800000</td>\n",
       "      <td>0.42</td>\n",
       "      <td>0.621429</td>\n",
       "      <td>0.800000</td>\n",
       "      <td>0.642424</td>\n",
       "      <td>0.466667</td>\n",
       "      <td>0.633333</td>\n",
       "      <td>0.7075</td>\n",
       "      <td>...</td>\n",
       "      <td>0.5</td>\n",
       "      <td>0.3</td>\n",
       "      <td>0.8</td>\n",
       "      <td>0.3</td>\n",
       "      <td>0.2</td>\n",
       "      <td>0.9</td>\n",
       "      <td>0.8</td>\n",
       "      <td>0.8</td>\n",
       "      <td>0.7</td>\n",
       "      <td>0.8</td>\n",
       "    </tr>\n",
       "    <tr>\n",
       "      <th>2</th>\n",
       "      <td>0.793548</td>\n",
       "      <td>0.7</td>\n",
       "      <td>0.656667</td>\n",
       "      <td>0.42</td>\n",
       "      <td>0.621429</td>\n",
       "      <td>0.792424</td>\n",
       "      <td>0.642424</td>\n",
       "      <td>0.466667</td>\n",
       "      <td>0.633333</td>\n",
       "      <td>0.7075</td>\n",
       "      <td>...</td>\n",
       "      <td>0.5</td>\n",
       "      <td>0.3</td>\n",
       "      <td>0.8</td>\n",
       "      <td>0.3</td>\n",
       "      <td>0.2</td>\n",
       "      <td>0.9</td>\n",
       "      <td>0.8</td>\n",
       "      <td>0.8</td>\n",
       "      <td>0.7</td>\n",
       "      <td>0.8</td>\n",
       "    </tr>\n",
       "    <tr>\n",
       "      <th>3</th>\n",
       "      <td>0.793548</td>\n",
       "      <td>0.7</td>\n",
       "      <td>0.656667</td>\n",
       "      <td>0.42</td>\n",
       "      <td>0.621429</td>\n",
       "      <td>0.792424</td>\n",
       "      <td>0.642424</td>\n",
       "      <td>0.466667</td>\n",
       "      <td>0.633333</td>\n",
       "      <td>0.7075</td>\n",
       "      <td>...</td>\n",
       "      <td>0.5</td>\n",
       "      <td>0.3</td>\n",
       "      <td>0.8</td>\n",
       "      <td>0.3</td>\n",
       "      <td>0.2</td>\n",
       "      <td>0.9</td>\n",
       "      <td>0.8</td>\n",
       "      <td>0.8</td>\n",
       "      <td>0.7</td>\n",
       "      <td>0.8</td>\n",
       "    </tr>\n",
       "    <tr>\n",
       "      <th>4</th>\n",
       "      <td>0.793548</td>\n",
       "      <td>0.7</td>\n",
       "      <td>0.656667</td>\n",
       "      <td>0.42</td>\n",
       "      <td>0.621429</td>\n",
       "      <td>0.792424</td>\n",
       "      <td>0.642424</td>\n",
       "      <td>0.466667</td>\n",
       "      <td>0.633333</td>\n",
       "      <td>0.7075</td>\n",
       "      <td>...</td>\n",
       "      <td>0.5</td>\n",
       "      <td>0.3</td>\n",
       "      <td>0.8</td>\n",
       "      <td>0.3</td>\n",
       "      <td>0.2</td>\n",
       "      <td>0.9</td>\n",
       "      <td>0.8</td>\n",
       "      <td>0.8</td>\n",
       "      <td>0.7</td>\n",
       "      <td>0.8</td>\n",
       "    </tr>\n",
       "    <tr>\n",
       "      <th>5</th>\n",
       "      <td>0.800000</td>\n",
       "      <td>0.7</td>\n",
       "      <td>0.656667</td>\n",
       "      <td>0.42</td>\n",
       "      <td>0.621429</td>\n",
       "      <td>0.792424</td>\n",
       "      <td>0.642424</td>\n",
       "      <td>0.466667</td>\n",
       "      <td>0.633333</td>\n",
       "      <td>0.7075</td>\n",
       "      <td>...</td>\n",
       "      <td>0.5</td>\n",
       "      <td>0.3</td>\n",
       "      <td>0.8</td>\n",
       "      <td>0.3</td>\n",
       "      <td>0.2</td>\n",
       "      <td>0.9</td>\n",
       "      <td>0.8</td>\n",
       "      <td>0.8</td>\n",
       "      <td>0.7</td>\n",
       "      <td>0.8</td>\n",
       "    </tr>\n",
       "  </tbody>\n",
       "</table>\n",
       "<p>5 rows × 8069 columns</p>\n",
       "</div>"
      ],
      "text/plain": [
       "movieId    1       2         3       4         5         6         7       \\\n",
       "userId                                                                      \n",
       "1        0.793548     0.7  0.800000    0.42  0.621429  0.800000  0.642424   \n",
       "2        0.793548     0.7  0.656667    0.42  0.621429  0.792424  0.642424   \n",
       "3        0.793548     0.7  0.656667    0.42  0.621429  0.792424  0.642424   \n",
       "4        0.793548     0.7  0.656667    0.42  0.621429  0.792424  0.642424   \n",
       "5        0.800000     0.7  0.656667    0.42  0.621429  0.792424  0.642424   \n",
       "\n",
       "movieId    8         9       10      ...  189713  190207  190209  190215  \\\n",
       "userId                               ...                                   \n",
       "1        0.466667  0.633333  0.7075  ...     0.5     0.3     0.8     0.3   \n",
       "2        0.466667  0.633333  0.7075  ...     0.5     0.3     0.8     0.3   \n",
       "3        0.466667  0.633333  0.7075  ...     0.5     0.3     0.8     0.3   \n",
       "4        0.466667  0.633333  0.7075  ...     0.5     0.3     0.8     0.3   \n",
       "5        0.466667  0.633333  0.7075  ...     0.5     0.3     0.8     0.3   \n",
       "\n",
       "movieId  190219  191005  193571  193581  193583  193609  \n",
       "userId                                                   \n",
       "1           0.2     0.9     0.8     0.8     0.7     0.8  \n",
       "2           0.2     0.9     0.8     0.8     0.7     0.8  \n",
       "3           0.2     0.9     0.8     0.8     0.7     0.8  \n",
       "4           0.2     0.9     0.8     0.8     0.7     0.8  \n",
       "5           0.2     0.9     0.8     0.8     0.7     0.8  \n",
       "\n",
       "[5 rows x 8069 columns]"
      ]
     },
     "execution_count": 22,
     "metadata": {},
     "output_type": "execute_result"
    }
   ],
   "source": [
    "user2item.head()"
   ]
  },
  {
   "cell_type": "code",
   "execution_count": 23,
   "metadata": {},
   "outputs": [
    {
     "data": {
      "text/html": [
       "<div>\n",
       "<style scoped>\n",
       "    .dataframe tbody tr th:only-of-type {\n",
       "        vertical-align: middle;\n",
       "    }\n",
       "\n",
       "    .dataframe tbody tr th {\n",
       "        vertical-align: top;\n",
       "    }\n",
       "\n",
       "    .dataframe thead th {\n",
       "        text-align: right;\n",
       "    }\n",
       "</style>\n",
       "<table border=\"1\" class=\"dataframe\">\n",
       "  <thead>\n",
       "    <tr style=\"text-align: right;\">\n",
       "      <th>userId</th>\n",
       "      <th>1</th>\n",
       "      <th>2</th>\n",
       "      <th>3</th>\n",
       "      <th>4</th>\n",
       "      <th>5</th>\n",
       "      <th>6</th>\n",
       "      <th>7</th>\n",
       "      <th>8</th>\n",
       "      <th>9</th>\n",
       "      <th>10</th>\n",
       "      <th>...</th>\n",
       "      <th>601</th>\n",
       "      <th>602</th>\n",
       "      <th>603</th>\n",
       "      <th>604</th>\n",
       "      <th>605</th>\n",
       "      <th>606</th>\n",
       "      <th>607</th>\n",
       "      <th>608</th>\n",
       "      <th>609</th>\n",
       "      <th>610</th>\n",
       "    </tr>\n",
       "    <tr>\n",
       "      <th>userId</th>\n",
       "      <th></th>\n",
       "      <th></th>\n",
       "      <th></th>\n",
       "      <th></th>\n",
       "      <th></th>\n",
       "      <th></th>\n",
       "      <th></th>\n",
       "      <th></th>\n",
       "      <th></th>\n",
       "      <th></th>\n",
       "      <th></th>\n",
       "      <th></th>\n",
       "      <th></th>\n",
       "      <th></th>\n",
       "      <th></th>\n",
       "      <th></th>\n",
       "      <th></th>\n",
       "      <th></th>\n",
       "      <th></th>\n",
       "      <th></th>\n",
       "      <th></th>\n",
       "    </tr>\n",
       "  </thead>\n",
       "  <tbody>\n",
       "    <tr>\n",
       "      <th>1</th>\n",
       "      <td>0.000000</td>\n",
       "      <td>0.999073</td>\n",
       "      <td>0.998411</td>\n",
       "      <td>0.998109</td>\n",
       "      <td>0.998999</td>\n",
       "      <td>0.998387</td>\n",
       "      <td>0.998535</td>\n",
       "      <td>0.999014</td>\n",
       "      <td>0.999023</td>\n",
       "      <td>0.998362</td>\n",
       "      <td>...</td>\n",
       "      <td>0.998998</td>\n",
       "      <td>0.998845</td>\n",
       "      <td>0.996397</td>\n",
       "      <td>0.998888</td>\n",
       "      <td>0.998753</td>\n",
       "      <td>0.997994</td>\n",
       "      <td>0.998515</td>\n",
       "      <td>0.996588</td>\n",
       "      <td>0.999083</td>\n",
       "      <td>0.997651</td>\n",
       "    </tr>\n",
       "    <tr>\n",
       "      <th>2</th>\n",
       "      <td>0.999073</td>\n",
       "      <td>0.000000</td>\n",
       "      <td>0.999299</td>\n",
       "      <td>0.998872</td>\n",
       "      <td>0.999872</td>\n",
       "      <td>0.999212</td>\n",
       "      <td>0.999376</td>\n",
       "      <td>0.999851</td>\n",
       "      <td>0.999862</td>\n",
       "      <td>0.999204</td>\n",
       "      <td>...</td>\n",
       "      <td>0.999827</td>\n",
       "      <td>0.999674</td>\n",
       "      <td>0.997453</td>\n",
       "      <td>0.999758</td>\n",
       "      <td>0.999606</td>\n",
       "      <td>0.998855</td>\n",
       "      <td>0.999386</td>\n",
       "      <td>0.997608</td>\n",
       "      <td>0.999933</td>\n",
       "      <td>0.998483</td>\n",
       "    </tr>\n",
       "    <tr>\n",
       "      <th>3</th>\n",
       "      <td>0.998411</td>\n",
       "      <td>0.999299</td>\n",
       "      <td>0.000000</td>\n",
       "      <td>0.998227</td>\n",
       "      <td>0.999229</td>\n",
       "      <td>0.998603</td>\n",
       "      <td>0.998755</td>\n",
       "      <td>0.999230</td>\n",
       "      <td>0.999241</td>\n",
       "      <td>0.998581</td>\n",
       "      <td>...</td>\n",
       "      <td>0.999210</td>\n",
       "      <td>0.999053</td>\n",
       "      <td>0.996892</td>\n",
       "      <td>0.999137</td>\n",
       "      <td>0.998985</td>\n",
       "      <td>0.998150</td>\n",
       "      <td>0.998776</td>\n",
       "      <td>0.997028</td>\n",
       "      <td>0.999305</td>\n",
       "      <td>0.997866</td>\n",
       "    </tr>\n",
       "    <tr>\n",
       "      <th>4</th>\n",
       "      <td>0.998109</td>\n",
       "      <td>0.998872</td>\n",
       "      <td>0.998227</td>\n",
       "      <td>0.000000</td>\n",
       "      <td>0.998771</td>\n",
       "      <td>0.998157</td>\n",
       "      <td>0.998415</td>\n",
       "      <td>0.998824</td>\n",
       "      <td>0.998817</td>\n",
       "      <td>0.998296</td>\n",
       "      <td>...</td>\n",
       "      <td>0.998749</td>\n",
       "      <td>0.998644</td>\n",
       "      <td>0.996474</td>\n",
       "      <td>0.998702</td>\n",
       "      <td>0.998645</td>\n",
       "      <td>0.997851</td>\n",
       "      <td>0.998398</td>\n",
       "      <td>0.996524</td>\n",
       "      <td>0.998900</td>\n",
       "      <td>0.997350</td>\n",
       "    </tr>\n",
       "    <tr>\n",
       "      <th>5</th>\n",
       "      <td>0.998999</td>\n",
       "      <td>0.999872</td>\n",
       "      <td>0.999229</td>\n",
       "      <td>0.998771</td>\n",
       "      <td>0.000000</td>\n",
       "      <td>0.999169</td>\n",
       "      <td>0.999312</td>\n",
       "      <td>0.999771</td>\n",
       "      <td>0.999792</td>\n",
       "      <td>0.999133</td>\n",
       "      <td>...</td>\n",
       "      <td>0.999764</td>\n",
       "      <td>0.999591</td>\n",
       "      <td>0.997399</td>\n",
       "      <td>0.999685</td>\n",
       "      <td>0.999512</td>\n",
       "      <td>0.998803</td>\n",
       "      <td>0.999338</td>\n",
       "      <td>0.997538</td>\n",
       "      <td>0.999864</td>\n",
       "      <td>0.998413</td>\n",
       "    </tr>\n",
       "  </tbody>\n",
       "</table>\n",
       "<p>5 rows × 610 columns</p>\n",
       "</div>"
      ],
      "text/plain": [
       "userId       1         2         3         4         5         6         7    \\\n",
       "userId                                                                         \n",
       "1       0.000000  0.999073  0.998411  0.998109  0.998999  0.998387  0.998535   \n",
       "2       0.999073  0.000000  0.999299  0.998872  0.999872  0.999212  0.999376   \n",
       "3       0.998411  0.999299  0.000000  0.998227  0.999229  0.998603  0.998755   \n",
       "4       0.998109  0.998872  0.998227  0.000000  0.998771  0.998157  0.998415   \n",
       "5       0.998999  0.999872  0.999229  0.998771  0.000000  0.999169  0.999312   \n",
       "\n",
       "userId       8         9         10   ...       601       602       603  \\\n",
       "userId                                ...                                 \n",
       "1       0.999014  0.999023  0.998362  ...  0.998998  0.998845  0.996397   \n",
       "2       0.999851  0.999862  0.999204  ...  0.999827  0.999674  0.997453   \n",
       "3       0.999230  0.999241  0.998581  ...  0.999210  0.999053  0.996892   \n",
       "4       0.998824  0.998817  0.998296  ...  0.998749  0.998644  0.996474   \n",
       "5       0.999771  0.999792  0.999133  ...  0.999764  0.999591  0.997399   \n",
       "\n",
       "userId       604       605       606       607       608       609       610  \n",
       "userId                                                                        \n",
       "1       0.998888  0.998753  0.997994  0.998515  0.996588  0.999083  0.997651  \n",
       "2       0.999758  0.999606  0.998855  0.999386  0.997608  0.999933  0.998483  \n",
       "3       0.999137  0.998985  0.998150  0.998776  0.997028  0.999305  0.997866  \n",
       "4       0.998702  0.998645  0.997851  0.998398  0.996524  0.998900  0.997350  \n",
       "5       0.999685  0.999512  0.998803  0.999338  0.997538  0.999864  0.998413  \n",
       "\n",
       "[5 rows x 610 columns]"
      ]
     },
     "execution_count": 23,
     "metadata": {},
     "output_type": "execute_result"
    }
   ],
   "source": [
    "#We are creating similarities matrix\n",
    "similarities = cosine_similarity(user2item)\n",
    "np.fill_diagonal(similarities, 0)\n",
    "similarities = pd.DataFrame(similarities, index=user2item.index, columns=user2item.index)\n",
    "similarities.head()"
   ]
  },
  {
   "cell_type": "code",
   "execution_count": 24,
   "metadata": {},
   "outputs": [],
   "source": [
    "def predict_rating(userId, movieId):\n",
    "    if movieId not in user2item.columns:\n",
    "        return 4\n",
    "    indexes = similarities.loc[userId, :].argsort()[::-1][:30].index\n",
    "    return user2item.loc[indexes, movieId].mean()*5"
   ]
  },
  {
   "cell_type": "code",
   "execution_count": 25,
   "metadata": {},
   "outputs": [
    {
     "data": {
      "application/vnd.jupyter.widget-view+json": {
       "model_id": "395d20f95d8e45e4871e2c5d10eac971",
       "version_major": 2,
       "version_minor": 0
      },
      "text/plain": [
       "HBox(children=(IntProgress(value=0, max=34110), HTML(value='')))"
      ]
     },
     "metadata": {},
     "output_type": "display_data"
    },
    {
     "name": "stdout",
     "output_type": "stream",
     "text": [
      "\n"
     ]
    }
   ],
   "source": [
    "predictions = []\n",
    "for i in tqdm_notebook(X_valid.index):\n",
    "    predictions.append(predict_rating(X_valid.loc[i, 'userId'], X_valid.loc[i, 'movieId']))\n",
    "X_valid['CF_prediction'] = predictions"
   ]
  },
  {
   "cell_type": "code",
   "execution_count": 26,
   "metadata": {},
   "outputs": [
    {
     "data": {
      "text/plain": [
       "0.9961293288055733"
      ]
     },
     "execution_count": 26,
     "metadata": {},
     "output_type": "execute_result"
    }
   ],
   "source": [
    "# Quality of such a simple CF seems to be very poor. Let's try more complicated approach\n",
    "np.sqrt(np.mean((X_valid['rating'] - X_valid['CF_prediction'])**2))"
   ]
  },
  {
   "cell_type": "code",
   "execution_count": 27,
   "metadata": {},
   "outputs": [
    {
     "data": {
      "application/vnd.jupyter.widget-view+json": {
       "model_id": "3aa7236ed33d4777b960ae75577bc38f",
       "version_major": 2,
       "version_minor": 0
      },
      "text/plain": [
       "HBox(children=(IntProgress(value=0, max=6100), HTML(value='')))"
      ]
     },
     "metadata": {},
     "output_type": "display_data"
    },
    {
     "name": "stdout",
     "output_type": "stream",
     "text": [
      "\n"
     ]
    }
   ],
   "source": [
    "predictions = []\n",
    "for i in tqdm_notebook(X_test.index):\n",
    "    predictions.append(predict_rating(X_test.loc[i, 'userId'], X_test.loc[i, 'movieId']))\n",
    "X_test['CF_prediction'] = predictions"
   ]
  },
  {
   "cell_type": "code",
   "execution_count": 28,
   "metadata": {},
   "outputs": [
    {
     "data": {
      "text/html": [
       "<div>\n",
       "<style scoped>\n",
       "    .dataframe tbody tr th:only-of-type {\n",
       "        vertical-align: middle;\n",
       "    }\n",
       "\n",
       "    .dataframe tbody tr th {\n",
       "        vertical-align: top;\n",
       "    }\n",
       "\n",
       "    .dataframe thead th {\n",
       "        text-align: right;\n",
       "    }\n",
       "</style>\n",
       "<table border=\"1\" class=\"dataframe\">\n",
       "  <thead>\n",
       "    <tr style=\"text-align: right;\">\n",
       "      <th></th>\n",
       "      <th>userId</th>\n",
       "      <th>movieId</th>\n",
       "      <th>rating</th>\n",
       "      <th>timestamp</th>\n",
       "      <th>CF_prediction</th>\n",
       "    </tr>\n",
       "  </thead>\n",
       "  <tbody>\n",
       "    <tr>\n",
       "      <th>207</th>\n",
       "      <td>1</td>\n",
       "      <td>3247</td>\n",
       "      <td>3.0</td>\n",
       "      <td>964983108</td>\n",
       "      <td>3.013333</td>\n",
       "    </tr>\n",
       "    <tr>\n",
       "      <th>161</th>\n",
       "      <td>1</td>\n",
       "      <td>2492</td>\n",
       "      <td>4.0</td>\n",
       "      <td>965719662</td>\n",
       "      <td>3.000000</td>\n",
       "    </tr>\n",
       "    <tr>\n",
       "      <th>14</th>\n",
       "      <td>1</td>\n",
       "      <td>235</td>\n",
       "      <td>4.0</td>\n",
       "      <td>964980908</td>\n",
       "      <td>3.750000</td>\n",
       "    </tr>\n",
       "    <tr>\n",
       "      <th>215</th>\n",
       "      <td>1</td>\n",
       "      <td>3450</td>\n",
       "      <td>5.0</td>\n",
       "      <td>964981144</td>\n",
       "      <td>3.398718</td>\n",
       "    </tr>\n",
       "    <tr>\n",
       "      <th>146</th>\n",
       "      <td>1</td>\n",
       "      <td>2291</td>\n",
       "      <td>5.0</td>\n",
       "      <td>964983664</td>\n",
       "      <td>3.729000</td>\n",
       "    </tr>\n",
       "  </tbody>\n",
       "</table>\n",
       "</div>"
      ],
      "text/plain": [
       "     userId  movieId  rating  timestamp  CF_prediction\n",
       "207       1     3247     3.0  964983108       3.013333\n",
       "161       1     2492     4.0  965719662       3.000000\n",
       "14        1      235     4.0  964980908       3.750000\n",
       "215       1     3450     5.0  964981144       3.398718\n",
       "146       1     2291     5.0  964983664       3.729000"
      ]
     },
     "execution_count": 28,
     "metadata": {},
     "output_type": "execute_result"
    }
   ],
   "source": [
    "X_test.head()"
   ]
  },
  {
   "cell_type": "markdown",
   "metadata": {},
   "source": [
    "We see that CF solution is better, than our baseline in a sense of RMSE measure (0.99 vs 1.03)"
   ]
  },
  {
   "cell_type": "markdown",
   "metadata": {},
   "source": [
    "# Let's compare simple CF solution with SVD model"
   ]
  },
  {
   "cell_type": "code",
   "execution_count": 33,
   "metadata": {},
   "outputs": [],
   "source": [
    "sparse_uid_mapping = {uid: idval for idval, uid in enumerate(ratings['userId'].unique())}\n",
    "sparse_mid_mapping = {mid: idval for idval, mid in enumerate(ratings['movieId'].unique())}\n",
    "\n",
    "train_mx = np.zeros((len(sparse_uid_mapping), len(sparse_mid_mapping)))\n",
    "for i in X_train.index:\n",
    "    train_mx[sparse_uid_mapping[X_train.loc[i, 'userId']], sparse_mid_mapping[X_train.loc[i, 'movieId']]] = X_train.loc[i, 'rating']\n",
    "train_sparse = sparse.csr_matrix(train_mx)"
   ]
  },
  {
   "cell_type": "code",
   "execution_count": 34,
   "metadata": {},
   "outputs": [],
   "source": [
    "from scipy.sparse.linalg import svds\n",
    "\n",
    "U, sigma, Vt = svds(train_sparse, k=300)\n",
    "sigma_diag_matrix=np.diag(sigma)\n",
    "\n",
    "ratings_pred = np.dot(np.dot(U, sigma_diag_matrix), Vt)"
   ]
  },
  {
   "cell_type": "code",
   "execution_count": 35,
   "metadata": {},
   "outputs": [
    {
     "data": {
      "application/vnd.jupyter.widget-view+json": {
       "model_id": "7ed5f418294e4211a8fb512b203f48b7",
       "version_major": 2,
       "version_minor": 0
      },
      "text/plain": [
       "HBox(children=(IntProgress(value=0, max=34110), HTML(value='')))"
      ]
     },
     "metadata": {},
     "output_type": "display_data"
    },
    {
     "name": "stdout",
     "output_type": "stream",
     "text": [
      "\n"
     ]
    },
    {
     "data": {
      "text/plain": [
       "3.609467458499381"
      ]
     },
     "execution_count": 35,
     "metadata": {},
     "output_type": "execute_result"
    }
   ],
   "source": [
    "predictions = []\n",
    "for i in tqdm_notebook(X_valid.index):\n",
    "    predictions.append(ratings_pred[sparse_uid_mapping[X_valid.loc[i, 'userId']],\n",
    "                                    sparse_mid_mapping[X_valid.loc[i, 'movieId']]])\n",
    "X_valid['SVD_prediction'] = predictions\n",
    "np.sqrt(np.mean((X_valid['rating'] - X_valid['SVD_prediction'])**2))"
   ]
  },
  {
   "cell_type": "code",
   "execution_count": 36,
   "metadata": {},
   "outputs": [
    {
     "data": {
      "application/vnd.jupyter.widget-view+json": {
       "model_id": "7d8bb96e71e144cc80496cbe22ea916c",
       "version_major": 2,
       "version_minor": 0
      },
      "text/plain": [
       "HBox(children=(IntProgress(value=0, max=6100), HTML(value='')))"
      ]
     },
     "metadata": {},
     "output_type": "display_data"
    },
    {
     "name": "stdout",
     "output_type": "stream",
     "text": [
      "\n"
     ]
    }
   ],
   "source": [
    "predictions = []\n",
    "for i in tqdm_notebook(X_test.index):\n",
    "    predictions.append(ratings_pred[sparse_uid_mapping[X_test.loc[i, 'userId']],\n",
    "                                    sparse_mid_mapping[X_test.loc[i, 'movieId']]])\n",
    "X_test['SVD_prediction'] = predictions"
   ]
  },
  {
   "cell_type": "markdown",
   "metadata": {},
   "source": [
    "It seems, that Pure SVD solution wors worst, than baseline. So it should be finetuned. We see, that matrix decomposition techniques"
   ]
  },
  {
   "cell_type": "markdown",
   "metadata": {},
   "source": [
    "# Let's compare simple CF solution with LightFm solution"
   ]
  },
  {
   "cell_type": "markdown",
   "metadata": {},
   "source": [
    "We are going to try to use one of the most powerfull today's technique - lightfm to introduce some features of out items"
   ]
  },
  {
   "cell_type": "code",
   "execution_count": 74,
   "metadata": {},
   "outputs": [],
   "source": [
    "from lightfm import LightFM\n",
    "from lightfm.evaluation import precision_at_k\n",
    "\n",
    "sparse_uid_mapping = {uid: idval for idval, uid in enumerate(ratings['userId'].unique())}\n",
    "sparse_mid_mapping = {mid: idval for idval, mid in enumerate(movies['movieId'].unique())}\n",
    "\n",
    "train_mx = np.zeros((len(sparse_uid_mapping), len(sparse_mid_mapping)))\n",
    "for i in X_train.index:\n",
    "    if X_train.loc[i, 'rating'] > 3:\n",
    "        score = 1\n",
    "    elif X_train.loc[i, 'rating'] == 3:\n",
    "        score = 0\n",
    "    else:\n",
    "        score = -1\n",
    "    train_mx[sparse_uid_mapping[X_train.loc[i, 'userId']], sparse_mid_mapping[X_train.loc[i, 'movieId']]] = score\n",
    "valid_mx = np.zeros((len(sparse_uid_mapping), len(sparse_mid_mapping)))\n",
    "for i in X_valid.index:\n",
    "    if X_valid.loc[i, 'rating'] > 3:\n",
    "        score = 1\n",
    "    elif X_valid.loc[i, 'rating'] == 3:\n",
    "        score = 0\n",
    "    else:\n",
    "        score = -1\n",
    "    valid_mx[sparse_uid_mapping[X_valid.loc[i, 'userId']], sparse_mid_mapping[X_valid.loc[i, 'movieId']]] = score\n",
    "\n",
    "train_sparse = sparse.csr_matrix(train_mx)\n",
    "valid_sparse = sparse.csr_matrix(valid_mx)"
   ]
  },
  {
   "cell_type": "code",
   "execution_count": 75,
   "metadata": {},
   "outputs": [],
   "source": [
    "movies.fillna(-1, inplace=True)\n",
    "\n",
    "century_map = {cent: len(genres) + idval for idval, cent in enumerate(movies['century'].unique())}\n",
    "decade_map = {dec: len(century_map) + len(genres) + idval for idval, dec in enumerate(movies['decade'].unique())}\n",
    "\n",
    "item_features = np.zeros((len(sparse_mid_mapping), len(genres) + len(decade_map) + len(century_map)))\n",
    "\n",
    "for i in movies.index:\n",
    "    if movies.loc[i, 'century'] == -1:\n",
    "        item_features[sparse_mid_mapping[movies.loc[i, 'movieId']],\n",
    "                      century_map[movies.loc[i, 'century']]] = 1\n",
    "    if movies.loc[i, 'decade'] == -1:\n",
    "        item_features[sparse_mid_mapping[movies.loc[i, 'movieId']],\n",
    "                      decade_map[movies.loc[i, 'decade']]] = 1\n",
    "    for spl in movies.loc[i, 'genres'].split(\"|\"):\n",
    "        item_features[sparse_mid_mapping[movies.loc[i, 'movieId']],\n",
    "                     genres[spl]] = 1"
   ]
  },
  {
   "cell_type": "code",
   "execution_count": 76,
   "metadata": {},
   "outputs": [
    {
     "data": {
      "text/plain": [
       "<lightfm.lightfm.LightFM at 0x7f77ad3e1668>"
      ]
     },
     "execution_count": 76,
     "metadata": {},
     "output_type": "execute_result"
    }
   ],
   "source": [
    "model = LightFM(no_components=50)\n",
    "\n",
    "model.fit(train_sparse,\n",
    "          item_features=sparse.csr_matrix(item_features),\n",
    "          epochs=30, num_threads=4)"
   ]
  },
  {
   "cell_type": "code",
   "execution_count": 78,
   "metadata": {},
   "outputs": [
    {
     "data": {
      "application/vnd.jupyter.widget-view+json": {
       "model_id": "5f4056a2269e462fb4c7909a4984c77f",
       "version_major": 2,
       "version_minor": 0
      },
      "text/plain": [
       "HBox(children=(IntProgress(value=0, max=34110), HTML(value='')))"
      ]
     },
     "metadata": {},
     "output_type": "display_data"
    },
    {
     "data": {
      "text/plain": [
       "1.6349733264872695"
      ]
     },
     "execution_count": 78,
     "metadata": {},
     "output_type": "execute_result"
    }
   ],
   "source": [
    "predictions = []\n",
    "csr_features = sparse.csr_matrix(item_features)\n",
    "for i in tqdm_notebook(X_valid.index):\n",
    "    pre_val = model.predict([sparse_uid_mapping[X_valid.loc[i, 'userId']]],\n",
    "                            [sparse_mid_mapping[X_valid.loc[i, 'movieId']]],\n",
    "                            item_features=csr_features)[0]\n",
    "    if pre_val > 1:\n",
    "        pre_val = 5.0\n",
    "    elif pre_val < -1:\n",
    "        pre_val = 0\n",
    "    else:\n",
    "        pre_val = (1 + pre_val) / 2 * 5\n",
    "    predictions.append(pre_val)\n",
    "X_valid['LFM_prediction'] = predictions\n",
    "np.sqrt(np.mean((X_valid['rating'] - X_valid['LFM_prediction'])**2))"
   ]
  },
  {
   "cell_type": "code",
   "execution_count": 79,
   "metadata": {},
   "outputs": [
    {
     "data": {
      "text/html": [
       "<div>\n",
       "<style scoped>\n",
       "    .dataframe tbody tr th:only-of-type {\n",
       "        vertical-align: middle;\n",
       "    }\n",
       "\n",
       "    .dataframe tbody tr th {\n",
       "        vertical-align: top;\n",
       "    }\n",
       "\n",
       "    .dataframe thead th {\n",
       "        text-align: right;\n",
       "    }\n",
       "</style>\n",
       "<table border=\"1\" class=\"dataframe\">\n",
       "  <thead>\n",
       "    <tr style=\"text-align: right;\">\n",
       "      <th></th>\n",
       "      <th>userId</th>\n",
       "      <th>movieId</th>\n",
       "      <th>rating</th>\n",
       "      <th>timestamp</th>\n",
       "      <th>CF_prediction</th>\n",
       "      <th>Baseline_prediction</th>\n",
       "      <th>SVD_prediction</th>\n",
       "      <th>bin_rating</th>\n",
       "    </tr>\n",
       "  </thead>\n",
       "  <tbody>\n",
       "    <tr>\n",
       "      <th>207</th>\n",
       "      <td>1</td>\n",
       "      <td>3247</td>\n",
       "      <td>3.0</td>\n",
       "      <td>964983108</td>\n",
       "      <td>3.013333</td>\n",
       "      <td>3.504247</td>\n",
       "      <td>-0.091325</td>\n",
       "      <td>1</td>\n",
       "    </tr>\n",
       "    <tr>\n",
       "      <th>161</th>\n",
       "      <td>1</td>\n",
       "      <td>2492</td>\n",
       "      <td>4.0</td>\n",
       "      <td>965719662</td>\n",
       "      <td>3.000000</td>\n",
       "      <td>3.504247</td>\n",
       "      <td>-0.002799</td>\n",
       "      <td>1</td>\n",
       "    </tr>\n",
       "    <tr>\n",
       "      <th>14</th>\n",
       "      <td>1</td>\n",
       "      <td>235</td>\n",
       "      <td>4.0</td>\n",
       "      <td>964980908</td>\n",
       "      <td>3.750000</td>\n",
       "      <td>3.504247</td>\n",
       "      <td>0.141224</td>\n",
       "      <td>1</td>\n",
       "    </tr>\n",
       "    <tr>\n",
       "      <th>215</th>\n",
       "      <td>1</td>\n",
       "      <td>3450</td>\n",
       "      <td>5.0</td>\n",
       "      <td>964981144</td>\n",
       "      <td>3.398718</td>\n",
       "      <td>3.504247</td>\n",
       "      <td>0.014280</td>\n",
       "      <td>1</td>\n",
       "    </tr>\n",
       "    <tr>\n",
       "      <th>146</th>\n",
       "      <td>1</td>\n",
       "      <td>2291</td>\n",
       "      <td>5.0</td>\n",
       "      <td>964983664</td>\n",
       "      <td>3.729000</td>\n",
       "      <td>3.504247</td>\n",
       "      <td>-0.078426</td>\n",
       "      <td>1</td>\n",
       "    </tr>\n",
       "  </tbody>\n",
       "</table>\n",
       "</div>"
      ],
      "text/plain": [
       "     userId  movieId  rating  timestamp  CF_prediction  Baseline_prediction  \\\n",
       "207       1     3247     3.0  964983108       3.013333             3.504247   \n",
       "161       1     2492     4.0  965719662       3.000000             3.504247   \n",
       "14        1      235     4.0  964980908       3.750000             3.504247   \n",
       "215       1     3450     5.0  964981144       3.398718             3.504247   \n",
       "146       1     2291     5.0  964983664       3.729000             3.504247   \n",
       "\n",
       "     SVD_prediction  bin_rating  \n",
       "207       -0.091325           1  \n",
       "161       -0.002799           1  \n",
       "14         0.141224           1  \n",
       "215        0.014280           1  \n",
       "146       -0.078426           1  "
      ]
     },
     "execution_count": 79,
     "metadata": {},
     "output_type": "execute_result"
    }
   ],
   "source": [
    "X_test.head()"
   ]
  },
  {
   "cell_type": "markdown",
   "metadata": {},
   "source": [
    "Finally, we see, that we failed to teach more complicated models. We stop on collaborative filtering"
   ]
  }
 ],
 "metadata": {
  "kernelspec": {
   "display_name": "Python 3",
   "language": "python",
   "name": "python3"
  },
  "language_info": {
   "codemirror_mode": {
    "name": "ipython",
    "version": 3
   },
   "file_extension": ".py",
   "mimetype": "text/x-python",
   "name": "python",
   "nbconvert_exporter": "python",
   "pygments_lexer": "ipython3",
   "version": "3.7.3"
  }
 },
 "nbformat": 4,
 "nbformat_minor": 2
}
